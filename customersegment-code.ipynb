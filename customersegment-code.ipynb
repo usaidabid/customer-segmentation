{
 "cells": [
  {
   "cell_type": "code",
   "execution_count": null,
   "id": "97e6b90b-bef6-4786-a551-132566abe85b",
   "metadata": {},
   "outputs": [],
   "source": [
    "#Reading the dataset\n",
    "import pandas as pd\n",
    "import numpy as np\n",
    "import seaborn as sns\n",
    "import matplotlib.pyplot as plt\n",
    "ds = pd.read_csv(r\"C:\\Users\\Zunnurain.Badar\\Mall_Customers.csv\")\n",
    "print(ds.columns)"
   ]
  },
  {
   "cell_type": "code",
   "execution_count": null,
   "id": "d6e8363d-a05b-4b67-8208-c198033da510",
   "metadata": {},
   "outputs": [],
   "source": [
    "#Outliers detection\n",
    "plt.figure(figsize=(8,4))\n",
    "sns.boxplot(data=ds[['Age','Annual Income (k$)', 'Spending Score (1-100)']])\n",
    "plt.show()"
   ]
  },
  {
   "cell_type": "code",
   "execution_count": null,
   "id": "3f688a84-7a16-4e02-a255-ea1b4d8c1393",
   "metadata": {},
   "outputs": [],
   "source": [
    "#checking the skewness of data graphically\n",
    "ds.hist(figsize=(8,4),bins=20)\n",
    "plt.show()"
   ]
  },
  {
   "cell_type": "code",
   "execution_count": null,
   "id": "07f4aa74-2bc4-47f1-8002-87408500c9dc",
   "metadata": {},
   "outputs": [],
   "source": [
    "#checking the skewness of data\n",
    "print(ds[['Annual Income (k$)','Age','Spending Score (1-100)']].skew())\n"
   ]
  },
  {
   "cell_type": "code",
   "execution_count": null,
   "id": "98d3cd6a-d23f-4ed9-98d6-a3f7d1aa4caf",
   "metadata": {},
   "outputs": [],
   "source": [
    "#Selecting only numeric cols\n",
    "ds_selected = ds[['Annual Income (k$)','Age','Spending Score (1-100)']]\n",
    "ds_selected"
   ]
  },
  {
   "cell_type": "code",
   "execution_count": null,
   "id": "125d6a40-e2f6-4583-a578-4c36a6a362ca",
   "metadata": {},
   "outputs": [],
   "source": [
    "#scaling the dataset for kmeans\n",
    "from sklearn.preprocessing import StandardScaler\n",
    "scaler = StandardScaler()\n",
    "scaled_ds = scaler.fit_transform(ds_selected)\n",
    "scaled_ds = pd.DataFrame(scaled_ds , columns = ds_selected.columns)\n",
    "print(scaled_ds.head())"
   ]
  },
  {
   "cell_type": "code",
   "execution_count": null,
   "id": "daebde58-9c22-43c7-af65-1423884c0779",
   "metadata": {},
   "outputs": [],
   "source": [
    "print(scaled_ds.describe)"
   ]
  },
  {
   "cell_type": "code",
   "execution_count": null,
   "id": "335ea116-b5ad-4429-b95d-397a5af56884",
   "metadata": {},
   "outputs": [],
   "source": [
    "#Applying elbow method for finding number of k\n",
    "from sklearn.cluster import KMeans\n",
    "import matplotlib.pyplot as plt\n",
    "\n",
    "inertia_values = []\n",
    "k_range = range(1, 11) \n",
    "\n",
    "for k in k_range:\n",
    "    kmeans = KMeans(n_clusters=k, random_state=42, n_init=10)\n",
    "    kmeans.fit(scaled_ds)  \n",
    "    inertia_values.append(kmeans.inertia_)  \n",
    "\n",
    "plt.plot(k_range, inertia_values, marker='o')\n",
    "\n",
    "plt.xlabel(\"Number of Clusters (K)\")\n",
    "plt.ylabel(\"Inertia\")\n",
    "plt.title(\"Elbow Method\")\n",
    "plt.show()"
   ]
  },
  {
   "cell_type": "code",
   "execution_count": null,
   "id": "73eef4aa-7b32-4d58-8c55-0598be8ab05d",
   "metadata": {},
   "outputs": [],
   "source": [
    "#Training the k means model\n",
    "from sklearn.cluster import KMeans\n",
    "kmeans = KMeans(n_clusters = 4 , random_state = 42, n_init = 10)\n",
    "kmeans.fit(scaled_ds)\n",
    "cluster_labels = kmeans.labels_\n",
    "ds_selected.loc[:, \"clusters\"] = cluster_labels  \n",
    "print(ds_selected.head(200))\n"
   ]
  },
  {
   "cell_type": "code",
   "execution_count": null,
   "id": "4d04bab9-ea57-4ec9-9c92-c617c42f367e",
   "metadata": {},
   "outputs": [],
   "source": [
    "#Data visuakization through scatter 3D plot\n",
    "import matplotlib.pyplot as plt\n",
    "from mpl_toolkits.mplot3d import Axes3D\n",
    "fig = plt.figure(figsize = (15,15))\n",
    "ax = fig.add_subplot(111 , projection = '3d')\n",
    "scatter = ax.scatter(ds_selected[\"Annual Income (k$)\"],ds_selected[\"Age\"],ds_selected[\"Spending Score (1-100)\"],c=ds_selected[\"clusters\"],cmap ='rainbow',s=60)\n",
    "ax.set_xlabel(\"Annual Income (k$)\")\n",
    "ax.set_ylabel(\"Age\")\n",
    "ax.set_zlabel(\"Spending Score (1-100)\")\n",
    "ax.set_title(\"customer segmentation\")\n",
    "plt.show()\n",
    "\n"
   ]
  },
  {
   "cell_type": "code",
   "execution_count": null,
   "id": "2eff93a8-bf8d-4a1e-b853-7ada83563eab",
   "metadata": {},
   "outputs": [],
   "source": [
    "#Finding mean for all clusters\n",
    "ds_selected.groupby(\"clusters\").mean()"
   ]
  },
  {
   "cell_type": "code",
   "execution_count": null,
   "id": "81044d29-3966-4c42-b1d6-299077e81b31",
   "metadata": {},
   "outputs": [],
   "source": [
    "#Finding the percentage of each cluster\n",
    "ds_selected['clusters'].value_counts(normalize=True) * 100"
   ]
  },
  {
   "cell_type": "markdown",
   "id": "e8d277f8-27e0-4995-8dfb-ff2823fa76b2",
   "metadata": {},
   "source": [
    "## 🔍 Insights from Customer Segmentation\n",
    "\n",
    "### 📌 Cluster 0: Older Customers, Low Spending\n",
    "- **Average Income:** 47.7k  \n",
    "- **Average Age:** 53.9 years  \n",
    "- **Spending Score:** 39.9  \n",
    "-  Budget deals and discounts should be offered to them\n",
    "\n",
    "### 📌 Cluster 1: Young, High Spending Customers\n",
    "- **Average Income:** 86.1k  \n",
    "- **Average Age:** 32.8 years  \n",
    "- **Spending Score:** 81.5  \n",
    "-  Expensive aur premium products should be offered to them\n",
    "\n",
    "### 📌 Cluster 2: Middle-Class, Balanced Spending\n",
    "- **Average Income:** 40k  \n",
    "- **Average Age:** 25.4 years  \n",
    "- **Spending Score:** 60.2  \n",
    "-  Exclusive deals should be offered to them\n",
    "\n",
    "### 📌 Cluster 3: High Income, Low Spending\n",
    "- **Average Income:** 86.5k  \n",
    "- **Average Age:** 39.3 years  \n",
    "- **Spending Score:** 19.5  \n",
    "-  Luxurious and premium products should be offered to them\n"
   ]
  },
  {
   "cell_type": "code",
   "execution_count": null,
   "id": "09922a72-7b70-4eb8-a988-2ee2669e4859",
   "metadata": {},
   "outputs": [],
   "source": [
    "pip install streamlit\n"
   ]
  },
  {
   "cell_type": "code",
   "execution_count": null,
   "id": "b29fc39f-b0ca-4011-98a2-3043548ad993",
   "metadata": {},
   "outputs": [],
   "source": [
    " %%writefile app.py\n",
    "import streamlit as st\n",
    "import pandas as pd\n",
    "from sklearn.cluster import KMeans\n",
    "import matplotlib.pyplot as plt\n",
    "\n",
    "st.title(\"Customer Segmentation using K-Means Clustering\")\n",
    "\n",
    "# Upload CSV File\n",
    "uploaded_file = st.file_uploader(\"Upload your dataset (CSV format)\", type=[\"csv\"])\n",
    "\n",
    "if uploaded_file is not None:\n",
    "    df = pd.read_csv(uploaded_file)\n",
    "    st.write(\"### Preview of Uploaded Dataset:\")\n",
    "    st.write(df.head())\n",
    "\n",
    "    # Select Features\n",
    "    st.write(\"### Select Features for Clustering:\")\n",
    "    selected_features = st.multiselect(\"Choose columns\", df.columns)\n",
    "\n",
    "    if len(selected_features) >= 2:\n",
    "        df_selected = df[selected_features].dropna()\n",
    "\n",
    "        # Select Number of Clusters\n",
    "        k = st.slider(\"Select number of clusters (K)\", min_value=2, max_value=10, value=4)\n",
    "        kmeans = KMeans(n_clusters=k, random_state=42)\n",
    "        df_selected[\"Cluster\"] = kmeans.fit_predict(df_selected)\n",
    "\n",
    "        # Cluster Means\n",
    "        cluster_means = df_selected.groupby(\"Cluster\").mean()\n",
    "\n",
    "        # Assigning Labels\n",
    "        cluster_names = {}\n",
    "        for i, row in cluster_means.iterrows():\n",
    "            if row[\"Spending Score (1-100)\"] > 60 and row[\"Age\"] < 35:\n",
    "                cluster_names[i] = \"Young High Spenders\"\n",
    "            elif row[\"Spending Score (1-100)\"] < 40 and row[\"Annual Income (k$)\"] > 60:\n",
    "                cluster_names[i] = \"Rich Low Spenders\"\n",
    "            elif row[\"Annual Income (k$)\"] < 40:\n",
    "                cluster_names[i] = \"Low Income Group\"\n",
    "            else:\n",
    "                cluster_names[i] = \"Average Spenders\"\n",
    "\n",
    "        df_selected[\"Cluster Name\"] = df_selected[\"Cluster\"].map(cluster_names)\n",
    "\n",
    "        # Show Updated Data\n",
    "        st.write(\"### Clustered Data with Labels:\")\n",
    "        st.write(df_selected)\n",
    "\n",
    "        # Show Cluster Summary\n",
    "        st.write(\"### Cluster Insights:\")\n",
    "        for i, name in cluster_names.items():\n",
    "            st.write(f\"**Cluster {i}: {name}** - {len(df_selected[df_selected['Cluster'] == i])} Customers\")\n",
    "\n",
    "        # Visualization\n",
    "        if len(selected_features) == 2:\n",
    "            st.write(\"### Cluster Visualization:\")\n",
    "            fig, ax = plt.subplots()\n",
    "            scatter = ax.scatter(df_selected.iloc[:, 0], df_selected.iloc[:, 1], c=df_selected[\"Cluster\"], cmap=\"viridis\")\n",
    "            ax.set_xlabel(selected_features[0])\n",
    "            ax.set_ylabel(selected_features[1])\n",
    "            plt.colorbar(scatter)\n",
    "            st.pyplot(fig)\n",
    "\n",
    "    else:\n",
    "        st.warning(\"Please select at least 2 features for clustering.\")\n"
   ]
  },
  {
   "cell_type": "code",
   "execution_count": null,
   "id": "de438480-d435-49a3-85c6-96a80d1a457a",
   "metadata": {},
   "outputs": [],
   "source": [
    "%system streamlit run app.py\n"
   ]
  },
  {
   "cell_type": "code",
   "execution_count": null,
   "id": "06f60278-4e7c-4f03-9193-9fb46dddb682",
   "metadata": {},
   "outputs": [],
   "source": []
  }
 ],
 "metadata": {
  "kernelspec": {
   "display_name": "Python 3 (ipykernel)",
   "language": "python",
   "name": "python3"
  },
  "language_info": {
   "codemirror_mode": {
    "name": "ipython",
    "version": 3
   },
   "file_extension": ".py",
   "mimetype": "text/x-python",
   "name": "python",
   "nbconvert_exporter": "python",
   "pygments_lexer": "ipython3",
   "version": "3.12.7"
  }
 },
 "nbformat": 4,
 "nbformat_minor": 5
}
